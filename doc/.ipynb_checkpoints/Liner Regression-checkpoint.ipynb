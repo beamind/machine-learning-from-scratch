{
 "cells": [
  {
   "cell_type": "markdown",
   "metadata": {},
   "source": [
    "# 线性回归"
   ]
  },
  {
   "cell_type": "markdown",
   "metadata": {},
   "source": [
    "## 定义:"
   ]
  },
  {
   "cell_type": "markdown",
   "metadata": {},
   "source": [
    "$$y=w^{\\rm T}x+b$$"
   ]
  },
  {
   "cell_type": "markdown",
   "metadata": {},
   "source": [
    "## 损失函数："
   ]
  },
  {
   "cell_type": "markdown",
   "metadata": {},
   "source": [
    "\\begin{align}\n",
    "L&=\\frac{1}{2N}\\sum_{n=1}^{N} \\left( \\hat{y}_n-y_n \\right)^2+\\frac{1}{2}\\alpha w^{\\rm T}w\\\\\n",
    "&=\\frac{1}{2N}\\sum_{n=1}^{N} \\left( w^{\\rm T}x_n+b-y_n \\right)^2+\\frac{1}{2}\\alpha w^{\\rm T}w\n",
    "\\end{align}"
   ]
  },
  {
   "cell_type": "markdown",
   "metadata": {},
   "source": [
    "## 梯度:"
   ]
  },
  {
   "cell_type": "markdown",
   "metadata": {},
   "source": [
    "$$\\frac{\\partial L}{\\partial w}=\\frac{1}{N}\\sum_{n=1}^N\\left(w^{\\rm T}x_n+b-y_n\\right)x_n+\\alpha w$$"
   ]
  },
  {
   "cell_type": "markdown",
   "metadata": {},
   "source": [
    "$$\\frac{\\partial L}{\\partial b}=\\frac{1}{N}\\sum_{n=1}^N\\left(w^{\\rm T}x_n+b-y\\right)$$"
   ]
  },
  {
   "cell_type": "markdown",
   "metadata": {},
   "source": [
    "## 梯度下降:"
   ]
  },
  {
   "cell_type": "markdown",
   "metadata": {},
   "source": [
    "\\begin{align}\n",
    "w&:=w-\\eta \\frac{\\partial L}{\\partial w}\\\\\n",
    "&:=w-\\eta\\left[\\frac{1}{N}\\sum_{n=1}^N\\left(w^{\\rm T}x_n+b-y_n\\right)x_n+\\alpha w\\right]\n",
    "\\end{align}"
   ]
  },
  {
   "cell_type": "markdown",
   "metadata": {},
   "source": [
    "\\begin{align}\n",
    "b&:=b-\\eta\\frac{\\partial L}{\\partial b}\\\\\n",
    "&:=b-\\eta\\frac{1}{N}\\sum_{n=1}^N\\left(w^{\\rm T}x_n+b-y\\right)\n",
    "\\end{align}"
   ]
  },
  {
   "cell_type": "markdown",
   "metadata": {},
   "source": [
    "## 随机梯度下降(SGD)"
   ]
  },
  {
   "cell_type": "markdown",
   "metadata": {},
   "source": [
    "\\begin{align}\n",
    "w:=w-\\eta\\left[\\frac{1}{B}\\sum_{n=1}^B\\left(w^{\\rm T}x_n+b-y_n\\right)x_n+\\alpha w\\right]\n",
    "\\end{align}"
   ]
  },
  {
   "cell_type": "markdown",
   "metadata": {},
   "source": [
    "\\begin{align}\n",
    "b:=b-\\eta\\frac{1}{B}\\sum_{n=1}^B\\left(w^{\\rm T}x_n+b-y\\right)\n",
    "\\end{align}"
   ]
  }
 ],
 "metadata": {
  "kernelspec": {
   "display_name": "Python 3",
   "language": "python",
   "name": "python3"
  },
  "language_info": {
   "codemirror_mode": {
    "name": "ipython",
    "version": 3
   },
   "file_extension": ".py",
   "mimetype": "text/x-python",
   "name": "python",
   "nbconvert_exporter": "python",
   "pygments_lexer": "ipython3",
   "version": "3.7.3"
  }
 },
 "nbformat": 4,
 "nbformat_minor": 2
}
